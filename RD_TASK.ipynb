{
  "nbformat": 4,
  "nbformat_minor": 0,
  "metadata": {
    "colab": {
      "provenance": []
    },
    "kernelspec": {
      "name": "python3",
      "display_name": "Python 3"
    },
    "language_info": {
      "name": "python"
    }
  },
  "cells": [
    {
      "cell_type": "code",
      "source": [],
      "metadata": {
        "id": "H_p2_xVKAODc"
      },
      "execution_count": null,
      "outputs": []
    },
    {
      "cell_type": "markdown",
      "source": [],
      "metadata": {
        "id": "8d4mR4EyHe-h"
      }
    },
    {
      "cell_type": "code",
      "execution_count": null,
      "metadata": {
        "id": "S5fO2n0EALq7",
        "colab": {
          "base_uri": "https://localhost:8080/"
        },
        "outputId": "4193ee63-0ac4-4a17-d353-6121a65453ab"
      },
      "outputs": [
        {
          "output_type": "stream",
          "name": "stdout",
          "text": [
            "Naive Bayes Accuracy: 0.9731\n",
            "              precision    recall  f1-score   support\n",
            "\n",
            "           0       0.97      1.00      0.98       965\n",
            "           1       1.00      0.80      0.89       150\n",
            "\n",
            "    accuracy                           0.97      1115\n",
            "   macro avg       0.98      0.90      0.94      1115\n",
            "weighted avg       0.97      0.97      0.97      1115\n",
            "\n",
            "Logistic Regression Accuracy: 0.9552\n",
            "              precision    recall  f1-score   support\n",
            "\n",
            "           0       0.95      1.00      0.97       965\n",
            "           1       0.97      0.69      0.80       150\n",
            "\n",
            "    accuracy                           0.96      1115\n",
            "   macro avg       0.96      0.84      0.89      1115\n",
            "weighted avg       0.96      0.96      0.95      1115\n",
            "\n",
            "SVM Accuracy: 0.9794\n",
            "              precision    recall  f1-score   support\n",
            "\n",
            "           0       0.98      1.00      0.99       965\n",
            "           1       0.97      0.87      0.92       150\n",
            "\n",
            "    accuracy                           0.98      1115\n",
            "   macro avg       0.98      0.93      0.95      1115\n",
            "weighted avg       0.98      0.98      0.98      1115\n",
            "\n"
          ]
        }
      ],
      "source": [
        "#fraudulent credit card transactions\n",
        "import pandas as pd\n",
        "from sklearn.model_selection import train_test_split\n",
        "from sklearn.feature_extraction.text import TfidfVectorizer\n",
        "from sklearn.naive_bayes import MultinomialNB\n",
        "from sklearn.linear_model import LogisticRegression\n",
        "from sklearn.svm import SVC\n",
        "from sklearn.metrics import accuracy_score, classification_report\n",
        "\n",
        "file_path = \"/content/spam_sms.csv\"\n",
        "df = pd.read_csv(file_path, encoding='latin-1')\n",
        "\n",
        "df.columns = [\"label\", \"message\"]\n",
        "\n",
        "df[\"label\"] = df[\"label\"].map({\"ham\": 0, \"spam\": 1})\n",
        "X_train, X_test, y_train, y_test = train_test_split(df[\"message\"], df[\"label\"], test_size=0.2, random_state=42)\n",
        "vectorizer = TfidfVectorizer(stop_words=\"english\", max_features=5000)\n",
        "X_train_tfidf = vectorizer.fit_transform(X_train)\n",
        "X_test_tfidf = vectorizer.transform(X_test)\n",
        "\n",
        "models = {\n",
        "    \"Naive Bayes\": MultinomialNB(),\n",
        "    \"Logistic Regression\": LogisticRegression(max_iter=500),\n",
        "    \"SVM\": SVC(kernel=\"linear\")\n",
        "}\n",
        "\n",
        "for name, model in models.items():\n",
        "    model.fit(X_train_tfidf, y_train)\n",
        "    y_pred = model.predict(X_test_tfidf)\n",
        "    accuracy = accuracy_score(y_test, y_pred)\n",
        "    print(f\"{name} Accuracy: {accuracy:.4f}\")\n",
        "    print(classification_report(y_test, y_pred))\n"
      ]
    },
    {
      "cell_type": "code",
      "source": [
        "#SMS Spam or not\n",
        "import pandas as pd\n",
        "import matplotlib.pyplot as plt\n",
        "from sklearn.model_selection import train_test_split\n",
        "from sklearn.preprocessing import StandardScaler, LabelEncoder\n",
        "from sklearn.linear_model import LogisticRegression\n",
        "from sklearn.tree import DecisionTreeClassifier\n",
        "from sklearn.ensemble import RandomForestClassifier\n",
        "from sklearn.metrics import classification_report\n",
        "\n",
        "file_path = \"/content/credit_card_fraud_dataset.csv\"\n",
        "df = pd.read_csv(file_path)\n",
        "\n",
        "df[\"TransactionDate\"] = pd.to_datetime(df[\"TransactionDate\"])\n",
        "\n",
        "label_encoders = {}\n",
        "for col in [\"TransactionType\", \"Location\"]:\n",
        "    le = LabelEncoder()\n",
        "    df[col] = le.fit_transform(df[col])\n",
        "    label_encoders[col] = le\n",
        "\n",
        "df.drop(columns=[\"TransactionID\", \"TransactionDate\"], inplace=True)\n",
        "\n",
        "X = df.drop(columns=[\"IsFraud\"])\n",
        "y = df[\"IsFraud\"]\n",
        "\n",
        "fraud_counts = y.value_counts()\n",
        "plt.figure(figsize=(6, 4))\n",
        "fraud_counts.plot(kind=\"bar\", color=[\"blue\", \"red\"])\n",
        "plt.xticks(ticks=[0, 1], labels=[\"Legitimate (0)\", \"Fraudulent (1)\"], rotation=0)\n",
        "plt.ylabel(\"Number of Transactions\")\n",
        "plt.title(\"Class Distribution of Transactions\")\n",
        "plt.show()\n",
        "\n",
        "X_train, X_test, y_train, y_test = train_test_split(X, y, test_size=0.2, random_state=42, stratify=y)\n",
        "\n",
        "scaler = StandardScaler()\n",
        "X_train = scaler.fit_transform(X_train)\n",
        "X_test = scaler.transform(X_test)\n",
        "\n",
        "log_reg = LogisticRegression(class_weight=\"balanced\", random_state=42)\n",
        "dec_tree = DecisionTreeClassifier(class_weight=\"balanced\", random_state=42)\n",
        "rand_forest = RandomForestClassifier(class_weight=\"balanced\", random_state=42, n_estimators=100)\n",
        "\n",
        "log_reg.fit(X_train, y_train)\n",
        "dec_tree.fit(X_train, y_train)\n",
        "rand_forest.fit(X_train, y_train)\n",
        "\n",
        "log_reg_pred = log_reg.predict(X_test)\n",
        "dec_tree_pred = dec_tree.predict(X_test)\n",
        "rand_forest_pred = rand_forest.predict(X_test)\n",
        "\n",
        "log_reg_report = classification_report(y_test, log_reg_pred, output_dict=True)\n",
        "dec_tree_report = classification_report(y_test, dec_tree_pred, output_dict=True)\n",
        "rand_forest_report = classification_report(y_test, rand_forest_pred, output_dict=True)\n",
        "\n",
        "model_performance = {\n",
        "    \"Logistic Regression\": log_reg_report[\"1\"][\"f1-score\"],\n",
        "    \"Decision Tree\": dec_tree_report[\"1\"][\"f1-score\"],\n",
        "    \"Random Forest\": rand_forest_report[\"1\"][\"f1-score\"],\n",
        "}\n",
        "\n",
        "print(\"Model Performance (F1-score for fraud detection):\")\n",
        "print(model_performance)\n"
      ],
      "metadata": {
        "colab": {
          "base_uri": "https://localhost:8080/",
          "height": 465
        },
        "id": "Bn110PNAJVFQ",
        "outputId": "552790c0-037a-4a68-fe2d-b8f16110c840"
      },
      "execution_count": 2,
      "outputs": [
        {
          "output_type": "display_data",
          "data": {
            "text/plain": [
              "<Figure size 600x400 with 1 Axes>"
            ],
            "image/png": "[encoded data removed]"
          },
          "metadata": {}
        },
        {
          "output_type": "stream",
          "name": "stdout",
          "text": [
            "Model Performance (F1-score for fraud detection):\n",
            "{'Logistic Regression': 0.01567209162145871, 'Decision Tree': 0.02077922077922078, 'Random Forest': 0.0}\n"
          ]
        }
      ]
    },
    {
      "cell_type": "code",
      "source": [
        "from google.colab import drive\n",
        "drive.mount('/content/drive')"
      ],
      "metadata": {
        "id": "yOzVi45gPX4j"
      },
      "execution_count": null,
      "outputs": []
    }
  ]
}